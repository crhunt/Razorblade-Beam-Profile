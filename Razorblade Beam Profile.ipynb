{
 "cells": [
  {
   "cell_type": "code",
   "execution_count": 6,
   "metadata": {},
   "outputs": [],
   "source": [
    "import numpy as np\n",
    "\n",
    "def getdiff(y):\n",
    "    # Differentiate y to get gaussian beam\n",
    "    # Called by getprofile\n",
    "    if y[len(y)-1] < y[0]: y = y[::-1]\n",
    "    ygauss = np.gradient(y)\n",
    "    xgauss = np.arange(len(ygauss)) # x-scale depends on steps between measurements\n",
    "    return xgauss,ygauss\n",
    "\n",
    "def gaussianfit(x,y,*p0):\n",
    "    from scipy.optimize import curve_fit\n",
    "    # Calculate gaussian fit to y\n",
    "    # Called by getprofile\n",
    "    # Define gaussian fit function\n",
    "    def gauss(x, *p):\n",
    "        A, mu, sigma, y0 = p\n",
    "        return A*np.exp(-(x-mu)**2/(2.*sigma**2)) + y0\n",
    "    # Define first attempt parameters from data\n",
    "    A0 = np.max(y)\n",
    "    mu0 = x[int(np.floor(len(x)/2))]\n",
    "    sigma0 = abs(x[len(x)-1]-x[0])/4\n",
    "    y0 = y[0]\n",
    "    p0 = [A0, mu0, sigma0, y0]\n",
    "    # Run fit\n",
    "    coeff, var_matrix = curve_fit(gauss, x, y, p0=p0)\n",
    "    yfit = gauss(x, *coeff)\n",
    "    return coeff, yfit\n",
    "\n",
    "def getprofile(y,mm = 1):\n",
    "    # Calculate the gaussian fit to the beam profile from integrated razor blade power measurement\n",
    "    # Differentiate \n",
    "    xgauss,ygauss = getdiff(y)\n",
    "    # Rescale x-axis if desired\n",
    "    # Plot displays as though x-axis is mm\n",
    "    xgauss = xgauss*mm\n",
    "    # Fit the data to a gaussian profile\n",
    "    coeff, yfit = gaussianfit(xgauss,ygauss)\n",
    "    FWHM = coeff[2]*2.35\n",
    "    print('Full-Width-Half-Max, FWHM = {0:.2f} mm'.format(FWHM))\n",
    "    print('')\n",
    "    print('A = {0:.2f}, x0 = {1:.2f} mm, sigma = {2:.2f} mm, y0 = {3:.2f}'.format(coeff[0], \n",
    "                                                                                  coeff[1], coeff[2], coeff[3]))\n",
    "    print('A*exp(-(x-x0)^2/(2*sigma^2)) + y0')\n",
    "    return xgauss, ygauss, yfit, coeff\n",
    "\n",
    "def plotprofile(x,y,yfit):\n",
    "    # Plot the beam profile (differentiated data) with gaussian fit\n",
    "    %matplotlib inline\n",
    "    import matplotlib.pyplot as plt\n",
    "    plt.plot(x, y,'d',label='Beam Profile')\n",
    "    plt.plot(x, yfit, '--',label='Gaussian Fit')\n",
    "    plt.xlabel('Width (mm)')\n",
    "    plt.ylabel('Amplitude (arb)')\n",
    "    plt.legend()\n",
    "    plt.show()"
   ]
  },
  {
   "cell_type": "code",
   "execution_count": 9,
   "metadata": {},
   "outputs": [
    {
     "name": "stdout",
     "output_type": "stream",
     "text": [
      "Full-Width-Half-Max, FWHM = 5.66 mm\n",
      "\n",
      "A = 0.18, x0 = 6.41 mm, sigma = 2.41 mm, y0 = -0.00\n",
      "A*exp(-(x-x0)^2/(2*sigma^2)) + y0\n"
     ]
    },
    {
     "data": {
      "image/png": "[encoded data removed]",
      "text/plain": [
       "<matplotlib.figure.Figure at 0x7fb83c07cf28>"
      ]
     },
     "metadata": {},
     "output_type": "display_data"
    }
   ],
   "source": [
    "# Example profile\n",
    "\n",
    "# Record power meter readings at each razor blade position:\n",
    "ydata = np.array([2.05,2.01,1.94,1.85,1.75,1.61,1.45,1.28,1.10,0.92,0.76,0.59,0.46,0.34,0.24,0.165,0.108,\n",
    "                  0.066,0.039,0.023,0.014,0.009])\n",
    "\n",
    "# Get beam profile and gaussian fit:\n",
    "#   Note: Plot axes assume data points are spaced by 1 mm translation of the razor blade. To scale x-axis,\n",
    "#         define a multiplier for the x-axis (spacing)\n",
    "spacing = 0.5 # Data measured every 0.5 mm\n",
    "xgauss, ygauss, yfit, coeff = getprofile(ydata,spacing)\n",
    "\n",
    "# Plot the profle:\n",
    "plotprofile(xgauss,ygauss,yfit)\n",
    "\n",
    "# Jupyter help: To run each cell, click on the cell and then hit Control+Enter, or use the run button above.\n",
    "#               Remember to run the first cell, containing the functions, before running your measurement cell."
   ]
  }
 ],
 "metadata": {
  "kernelspec": {
   "display_name": "Python 3",
   "language": "python",
   "name": "python3"
  },
  "language_info": {
   "codemirror_mode": {
    "name": "ipython",
    "version": 3
   },
   "file_extension": ".py",
   "mimetype": "text/x-python",
   "name": "python",
   "nbconvert_exporter": "python",
   "pygments_lexer": "ipython3",
   "version": "3.6.4"
  }
 },
 "nbformat": 4,
 "nbformat_minor": 2
}
